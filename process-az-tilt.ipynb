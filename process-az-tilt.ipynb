{
 "cells": [
  {
   "cell_type": "markdown",
   "id": "8222c2c3",
   "metadata": {},
   "source": [
    "This script is the preliminary main operator script for running functions through the az-tilt estimation pipeline. To test out a function, we run the following steps:\n",
    "\n",
    "1) Collect the data sets to test on.\n",
    "\n",
    "2) Get metadata associated with the data sets, as this metadata is parameters into the function. FURTHER DISCUSSION: do we want to keep the naming conventions and passed parameters of the function consistent here?? This will definitely simplify things.\n",
    "\n",
    "3) Get a list of all of the \"submitted\" modules that we want to run the datasets through. Each module contains the properly labeled function for the associated test (for example, all az-tilt tests require a function called run_az_tilt_estimation()).\n",
    "\n",
    "4) Run function using the data set and the required metadata parameters and get outputs. Create a dictionary of outputs, containing results, ground truth outputs, and test type.\n",
    "\n",
    "This is a rough draft that is expected to change."
   ]
  },
  {
   "cell_type": "code",
   "execution_count": 1,
   "id": "cbe6b451",
   "metadata": {},
   "outputs": [],
   "source": [
    "# Import required packages\n",
    "\n",
    "import pandas as pd\n",
    "import glob\n",
    "from importlib import import_module"
   ]
  },
  {
   "cell_type": "code",
   "execution_count": 2,
   "id": "563d212f",
   "metadata": {},
   "outputs": [
    {
     "name": "stdout",
     "output_type": "stream",
     "text": [
      "['./data\\\\4_ac_power__315.csv']\n"
     ]
    }
   ],
   "source": [
    "# Read in all of the data sets and the associated metadata\n",
    "\n",
    "data_files = glob.glob(\"./data/*.csv\")\n",
    "# Drop the metadata file\n",
    "data_files = [x for x in data_files if 'metadata.csv' not in x]\n",
    "print(data_files)\n",
    "\n",
    "# Get the metadata file\n",
    "metadata_df = pd.read_csv(\"./data/metadata.csv\")\n",
    "\n",
    "# Get a list of the modules that we're going to be testing. Ideally, this would be housed in some sort of database \n",
    "modules_to_import = [\"az-tilt-estimator\"]\n",
    "\n",
    "# Generate a list to store all of the results as associated dictionary values\n",
    "results_list = list()"
   ]
  },
  {
   "cell_type": "code",
   "execution_count": 3,
   "id": "66916fc4",
   "metadata": {},
   "outputs": [
    {
     "name": "stdout",
     "output_type": "stream",
     "text": [
      "{'file': '4_ac_power__315.csv', 'power_stream': 'ac_power__315', 'system_id': 4, 'name': 'Sanyo1', 'latitude': 39.7406, 'longitude': -105.1774, 'public': True, 'time_zone': 'Etc/GMT+7', 'azimuth': 180, 'tilt': 40}\n"
     ]
    },
    {
     "name": "stderr",
     "output_type": "stream",
     "text": [
      "C:\\Users\\kperry\\.conda\\envs\\pvfleets_qa\\lib\\site-packages\\pvanalytics\\quality\\gaps.py:416: FutureWarning: Indexing a timezone-aware DatetimeIndex with a timezone-naive datetime is deprecated and will raise KeyError in a future version.  Use a timezone-aware object instead.\n",
      "  mask.loc[start.date():end.date()] = True\n",
      "C:\\Users\\kperry\\.conda\\envs\\pvfleets_qa\\lib\\site-packages\\rdtools\\filtering.py:641: UserWarning: The XGBoost filter is an experimental clipping filter that is still under development. The API, results, and default behaviors may change in future releases (including MINOR and PATCH). Use at your own risk!\n",
      "  warnings.warn(\"The XGBoost filter is an experimental clipping filter \"\n"
     ]
    },
    {
     "name": "stdout",
     "output_type": "stream",
     "text": [
      "31.676397658089208 178.6311297551405\n"
     ]
    }
   ],
   "source": [
    "# Loop through each file, get its associated metadata, and run it through the function\n",
    "for file in data_files:\n",
    "    df = pd.read_csv(file, index_col=0, parse_dates=True)\n",
    "    # Get the metadata associated with the specific file\n",
    "    associated_metadata = dict(metadata_df[metadata_df['file'] == file.split(\"\\\\\")[-1]].iloc[0])\n",
    "    print(associated_metadata)\n",
    "    # Build pandas series for power stream\n",
    "    time_series = pd.Series(df[associated_metadata['power_stream']])\n",
    "    # Import designated modules via importlib\n",
    "    for mod in modules_to_import:\n",
    "        mod = import_module(mod)\n",
    "        function = getattr(mod, \"run_az_tilt_estimation\")\n",
    "        tilt, az = function(time_series,\n",
    "                           associated_metadata['latitude'],\n",
    "                           associated_metadata['longitude'],\n",
    "                           associated_metadata['time_zone'])\n",
    "        print(tilt,az)\n",
    "        results_list.append({\"test\": \"azimuth-tilt estimation\",\n",
    "                            \"data\": file,\n",
    "                            \"module\": mod,\n",
    "                            \"outputs\": (tilt, az),\n",
    "                            \"ground_truth\": (associated_metadata['tilt'], associated_metadata['azimuth'])})\n",
    "    "
   ]
  },
  {
   "cell_type": "code",
   "execution_count": 4,
   "id": "eb2e8d72",
   "metadata": {},
   "outputs": [
    {
     "name": "stdout",
     "output_type": "stream",
     "text": [
      "[{'test': 'azimuth-tilt estimation', 'data': './data\\\\4_ac_power__315.csv', 'module': <module 'az-tilt-estimator' from 'c:\\\\Users\\\\kperry\\\\Documents\\\\source\\\\repos\\\\pvinsight-validation-hub\\\\az-tilt-estimator.py'>, 'outputs': (31.676397658089208, 178.6311297551405), 'ground_truth': (40, 180)}]\n"
     ]
    }
   ],
   "source": [
    "print(results_list)"
   ]
  }
 ],
 "metadata": {
  "kernelspec": {
   "display_name": "Python 3",
   "language": "python",
   "name": "python3"
  },
  "language_info": {
   "codemirror_mode": {
    "name": "ipython",
    "version": 3
   },
   "file_extension": ".py",
   "mimetype": "text/x-python",
   "name": "python",
   "nbconvert_exporter": "python",
   "pygments_lexer": "ipython3",
   "version": "3.7.10"
  }
 },
 "nbformat": 4,
 "nbformat_minor": 5
}
