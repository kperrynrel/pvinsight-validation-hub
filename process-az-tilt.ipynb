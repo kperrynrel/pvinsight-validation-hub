{
 "cells": [
  {
   "cell_type": "markdown",
   "id": "8222c2c3",
   "metadata": {},
   "source": [
    "This script is the preliminary main operator script for running functions through the az-tilt estimation pipeline. To test out a function, we run the following steps:\n",
    "\n",
    "1) Collect the data sets to test on.\n",
    "\n",
    "2) Get metadata associated with the data sets, as this metadata is parameters into the function. FURTHER DISCUSSION: do we want to keep the naming conventions and passed parameters of the function consistent here?? This will definitely simplify things.\n",
    "\n",
    "3) Get a list of all of the \"submitted\" modules that we want to run the datasets through. Each module contains the properly labeled function for the associated test (for example, all az-tilt tests require a function called run_az_tilt_estimation()).\n",
    "\n",
    "4) Run function using the data set and the required metadata parameters and get outputs. Create a dictionary of outputs, containing results, ground truth outputs, and test type.\n",
    "\n",
    "This is a rough draft that is expected to change."
   ]
  },
  {
   "cell_type": "code",
   "execution_count": 39,
   "id": "cbe6b451",
   "metadata": {},
   "outputs": [],
   "source": [
    "# Import required packages\n",
    "\n",
    "import pandas as pd\n",
    "import glob\n",
    "from importlib import import_module"
   ]
  },
  {
   "cell_type": "code",
   "execution_count": 40,
   "id": "563d212f",
   "metadata": {},
   "outputs": [
    {
     "name": "stdout",
     "output_type": "stream",
     "text": [
      "['./data\\\\1201_ac_power_hw__2801.csv', './data\\\\1332_inv1_ac_power__2642.csv', './data\\\\1332_inv2_ac_power__2646.csv', './data\\\\1332_inv3_ac_power__2650.csv', './data\\\\4_ac_power__315.csv']\n"
     ]
    }
   ],
   "source": [
    "# Read in all of the data sets and the associated metadata\n",
    "\n",
    "data_files = glob.glob(\"./data/*.csv\")\n",
    "# Drop the metadata file\n",
    "data_files = [x for x in data_files if 'metadata.csv' not in x]\n",
    "print(data_files)\n",
    "\n",
    "# Get the metadata file\n",
    "metadata_df = pd.read_csv(\"./data/metadata.csv\")\n",
    "\n",
    "# Get a list of the modules that we're going to be testing. Ideally, this would be housed in some sort of database \n",
    "modules_to_import = [\"az-tilt-estimator\"]\n",
    "\n",
    "# Generate a list to store all of the results as associated dictionary values\n",
    "results_list = list()"
   ]
  },
  {
   "cell_type": "code",
   "execution_count": null,
   "id": "66916fc4",
   "metadata": {},
   "outputs": [],
   "source": [
    "# Loop through each file, get its associated metadata, and run it through the function\n",
    "for file in data_files:\n",
    "    df = pd.read_csv(file, index_col=0, parse_dates=True)\n",
    "    # Get the metadata associated with the specific file\n",
    "    associated_metadata = dict(metadata_df[metadata_df['file'] == file].iloc[0])\n",
    "    print(associated_metadata)\n",
    "    # Build pandas series for power stream\n",
    "    time_series = pd.Series(df[associated_metadata['power_stream']])\n",
    "    # Import designated modules via importlib\n",
    "    for mod in modules_to_import:\n",
    "        mod = import_module(mod)\n",
    "        function = getattr(mod, \"run_az_tilt_estimation\")\n",
    "        tilt, az = function(time_series,\n",
    "                           associated_metadata['latitude'],\n",
    "                           associated_metadata['longitude'],\n",
    "                           associated_metadata['time_zone'])\n",
    "        print(tilt,az)\n",
    "        results_link.append({\"test\": \"azimuth-tilt estimation\",\n",
    "                            \"data\": file,\n",
    "                            \"module\": mod,\n",
    "                            \"outputs\": (tilt, az),\n",
    "                            \"ground_truth\": (associated_metadata['tilt'], associated_metadata['azimuth'])})\n",
    "    "
   ]
  },
  {
   "cell_type": "code",
   "execution_count": 38,
   "id": "a2fe178b",
   "metadata": {},
   "outputs": [
    {
     "name": "stdout",
     "output_type": "stream",
     "text": [
      "                     ac_power_hw__2801\n",
      "measured_on                           \n",
      "2015-01-01 00:03:00               -2.0\n",
      "2015-01-01 00:06:00               -2.0\n",
      "2015-01-01 00:09:00               -2.0\n",
      "2015-01-01 00:12:00               -2.0\n",
      "2015-01-01 00:15:00               -2.0\n",
      "...                                ...\n",
      "2018-06-30 23:35:00               -2.0\n",
      "2018-06-30 23:40:00               -2.0\n",
      "2018-06-30 23:45:00               -2.0\n",
      "2018-06-30 23:50:00               -2.0\n",
      "2018-06-30 23:55:00               -2.0\n",
      "\n",
      "[442011 rows x 1 columns]\n"
     ]
    }
   ],
   "source": [
    "print(df)"
   ]
  },
  {
   "cell_type": "code",
   "execution_count": null,
   "id": "4511a2ed",
   "metadata": {},
   "outputs": [],
   "source": []
  }
 ],
 "metadata": {
  "kernelspec": {
   "display_name": "Python 3",
   "language": "python",
   "name": "python3"
  },
  "language_info": {
   "codemirror_mode": {
    "name": "ipython",
    "version": 3
   },
   "file_extension": ".py",
   "mimetype": "text/x-python",
   "name": "python",
   "nbconvert_exporter": "python",
   "pygments_lexer": "ipython3",
   "version": "3.7.10"
  }
 },
 "nbformat": 4,
 "nbformat_minor": 5
}
