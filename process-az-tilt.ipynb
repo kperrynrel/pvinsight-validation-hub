{
 "cells": [
  {
   "cell_type": "markdown",
   "id": "8222c2c3",
   "metadata": {},
   "source": [
    "This script is the main operator script for running functions through the az-tilt estimation pipeline. To test out a function, we run the following steps:\n",
    "\n",
    "1) Collect a data set to test on.\n",
    "\n",
    "2) Get metadata associated with the data set, as this metadata may be passed as parameters into the function (potentially not all metadata may be used, so this needs to be fleshed out as some metadata may be optional!)\n",
    "\n",
    "3) Run function using the data set and the required metadata parameters and get outputs"
   ]
  },
  {
   "cell_type": "code",
   "execution_count": 17,
   "id": "cbe6b451",
   "metadata": {},
   "outputs": [],
   "source": [
    "# Import required packages\n",
    "\n",
    "import pandas as pd\n",
    "import glob "
   ]
  },
  {
   "cell_type": "code",
   "execution_count": 18,
   "id": "563d212f",
   "metadata": {},
   "outputs": [
    {
     "name": "stdout",
     "output_type": "stream",
     "text": [
      "['./data\\\\1201_ac_power_hw__2801.csv', './data\\\\1332_inv1_ac_power__2642.csv', './data\\\\1332_inv2_ac_power__2646.csv', './data\\\\1332_inv3_ac_power__2650.csv', './data\\\\4_ac_power__315.csv']\n"
     ]
    }
   ],
   "source": [
    "# Read in all of the data sets and the associated metadata\n",
    "\n",
    "data_files = glob.glob(\"./data/*.csv\")\n",
    "# Drop the metadata file\n",
    "data_files = [x for x in data_files if 'metadata.csv' not in x]\n",
    "print(data_files)\n",
    "\n",
    "# Get the metadata file\n",
    "metadata_df = pd.read_csv(\"./data/metadata.csv\")"
   ]
  },
  {
   "cell_type": "code",
   "execution_count": null,
   "id": "66916fc4",
   "metadata": {},
   "outputs": [
    {
     "name": "stdout",
     "output_type": "stream",
     "text": [
      "1201_ac_power_hw__2801\n",
      "{'power_stream': '1201_ac_power_hw__2801', 'system_id': 1201, 'name': 'Distributed Sun - 5 Executive Campus', 'latitude': 39.9283, 'longitude': -75.0481, 'public': True, 'timezone': 'America/New_York'}\n",
      "1332_inv1_ac_power__2642\n",
      "{'power_stream': '1332_inv1_ac_power__2642', 'system_id': 1332, 'name': 'NREL Parking Garage', 'latitude': 39.7388, 'longitude': -105.1732, 'public': True, 'timezone': 'Etc/GMT+7'}\n",
      "1332_inv2_ac_power__2646\n",
      "{'power_stream': '1332_inv2_ac_power__2646', 'system_id': 1332, 'name': 'NREL Parking Garage', 'latitude': 39.7388, 'longitude': -105.1732, 'public': True, 'timezone': 'Etc/GMT+7'}\n",
      "1332_inv3_ac_power__2650\n",
      "{'power_stream': '1332_inv3_ac_power__2650', 'system_id': 1332, 'name': 'NREL Parking Garage', 'latitude': 39.7388, 'longitude': -105.1732, 'public': True, 'timezone': 'Etc/GMT+7'}\n"
     ]
    }
   ],
   "source": [
    "# Loop through each file, get its associated metadata, and run it through the function\n",
    "for file in data_files:\n",
    "    df = pd.read_csv(file, index_col=0, parse_dates=True)\n",
    "    # Get the metadata associated with the specific file\n",
    "    power_stream = file.split(\"\\\\\")[-1].replace(\".csv\", '')\n",
    "    print(power_stream)\n",
    "    associated_metadata = dict(metadata_df[metadata_df['power_stream'] == power_stream].iloc[0])\n",
    "    print(associated_metadata)\n",
    "    # Run the data through the designated function\n",
    "    \n",
    "    "
   ]
  },
  {
   "cell_type": "code",
   "execution_count": 3,
   "id": "325e8985",
   "metadata": {},
   "outputs": [
    {
     "name": "stdout",
     "output_type": "stream",
     "text": [
      "[]\n"
     ]
    }
   ],
   "source": []
  },
  {
   "cell_type": "code",
   "execution_count": null,
   "id": "a2fe178b",
   "metadata": {},
   "outputs": [],
   "source": []
  }
 ],
 "metadata": {
  "kernelspec": {
   "display_name": "Python 3",
   "language": "python",
   "name": "python3"
  },
  "language_info": {
   "codemirror_mode": {
    "name": "ipython",
    "version": 3
   },
   "file_extension": ".py",
   "mimetype": "text/x-python",
   "name": "python",
   "nbconvert_exporter": "python",
   "pygments_lexer": "ipython3",
   "version": "3.7.10"
  }
 },
 "nbformat": 4,
 "nbformat_minor": 5
}
